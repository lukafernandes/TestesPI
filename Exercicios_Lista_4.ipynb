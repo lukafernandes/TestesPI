{
  "nbformat": 4,
  "nbformat_minor": 0,
  "metadata": {
    "colab": {
      "provenance": [],
      "toc_visible": true,
      "authorship_tag": "ABX9TyOmmQz+xXoVtpusVmg7Vn0H",
      "include_colab_link": true
    },
    "kernelspec": {
      "name": "python3",
      "display_name": "Python 3"
    },
    "language_info": {
      "name": "python"
    }
  },
  "cells": [
    {
      "cell_type": "markdown",
      "metadata": {
        "id": "view-in-github",
        "colab_type": "text"
      },
      "source": [
        "<a href=\"https://colab.research.google.com/github/lukafernandes/TestesPI/blob/main/Exercicios_Lista_4.ipynb\" target=\"_parent\"><img src=\"https://colab.research.google.com/assets/colab-badge.svg\" alt=\"Open In Colab\"/></a>"
      ]
    },
    {
      "cell_type": "markdown",
      "source": [
        "Exercício 4.1"
      ],
      "metadata": {
        "id": "AZPQFzkWnqDR"
      }
    },
    {
      "cell_type": "code",
      "execution_count": 14,
      "metadata": {
        "colab": {
          "base_uri": "https://localhost:8080/"
        },
        "id": "ItOr_-cujHjp",
        "outputId": "d8555fca-47a6-441a-dd61-7383f0992bdc"
      },
      "outputs": [
        {
          "output_type": "stream",
          "name": "stdout",
          "text": [
            "Carlos Silva-Junior\n",
            "C.S.\n"
          ]
        }
      ],
      "source": [
        "def abreviarNome (nome: str):\n",
        "  abreviacao = f\"{nome[0]}\"\n",
        "  for i in range(len(nome)):\n",
        "    if(nome[i] == \" \"):\n",
        "      abreviacao = abreviacao + \".\"\n",
        "    if(nome[i-1] == \" \"):\n",
        "      abreviacao = abreviacao + nome[i]\n",
        "  return abreviacao + \".\"\n",
        "\n",
        "def main():\n",
        "  nome = input()\n",
        "  print(abreviarNome(nome))\n",
        "\n",
        "main()"
      ]
    },
    {
      "cell_type": "markdown",
      "source": [
        "Exercício 4.2"
      ],
      "metadata": {
        "id": "Pyi3_PzKnxKw"
      }
    },
    {
      "cell_type": "code",
      "source": [
        "def temVogais (frase: str):\n",
        "\n",
        "  vogais = {'A': 'a', 'E': 'e', 'I': 'i', 'O': 'o', 'U':'u'}\n",
        "  quantidadeVogais = 0\n",
        "\n",
        "  for i in range(len(frase)):\n",
        "    if(frase[i].upper() in vogais.keys()):\n",
        "        quantidadeVogais += 1\n",
        "  return quantidadeVogais\n",
        "\n",
        "def main():\n",
        "  frase = input()\n",
        "  print(temVogais(frase))\n",
        "\n",
        "main()"
      ],
      "metadata": {
        "colab": {
          "base_uri": "https://localhost:8080/"
        },
        "id": "no1QHcFpno6L",
        "outputId": "952e5811-78e8-4e48-8733-84835e9ae1f1"
      },
      "execution_count": 23,
      "outputs": [
        {
          "output_type": "stream",
          "name": "stdout",
          "text": [
            "Esta frase contem vogais.\n",
            "9\n"
          ]
        }
      ]
    },
    {
      "cell_type": "markdown",
      "source": [
        "Exercício 4.3"
      ],
      "metadata": {
        "id": "W4W5cthMsxWH"
      }
    },
    {
      "cell_type": "code",
      "source": [
        "def verificarPalindromo (palavra: str):\n",
        "  palavraInvertida = \"\"\n",
        "\n",
        "  for i in range(len(palavra)):\n",
        "    palavraInvertida =  palavraInvertida + palavra[-i-1].lower()\n",
        "  if(palavra.lower() == palavraInvertida):\n",
        "    return 'É palíndromo'\n",
        "  else:\n",
        "    return 'Não é palíndromo'\n",
        "\n",
        "def main():\n",
        "  palavra = input()\n",
        "  print(verificarPalindromo(palavra))\n",
        "\n",
        "main()"
      ],
      "metadata": {
        "colab": {
          "base_uri": "https://localhost:8080/"
        },
        "id": "Nz6fNSgqs1I7",
        "outputId": "a92ffb93-d3ce-4cb9-a7e6-77bf5148050d"
      },
      "execution_count": 32,
      "outputs": [
        {
          "output_type": "stream",
          "name": "stdout",
          "text": [
            "Otto\n",
            "É palíndromo\n"
          ]
        }
      ]
    },
    {
      "cell_type": "markdown",
      "source": [
        "Exercicio 4.4"
      ],
      "metadata": {
        "id": "8lYX-Ul5wJdv"
      }
    },
    {
      "cell_type": "code",
      "source": [
        "def sequenciaInversa(n: int):\n",
        "  listaNumeros = []\n",
        "  for i in range(n):\n",
        "    listaNumeros.append(int(input()))\n",
        "  for i in range(len(listaNumeros)):\n",
        "    print(listaNumeros[-i-1])\n",
        "\n",
        "def main():\n",
        "  n = int(input())\n",
        "  sequenciaInversa(n)\n",
        "\n",
        "main()"
      ],
      "metadata": {
        "colab": {
          "base_uri": "https://localhost:8080/"
        },
        "id": "6gp8pCugwMLJ",
        "outputId": "68f985b0-b95f-4831-eb6d-7fbdce1fe1f7"
      },
      "execution_count": 36,
      "outputs": [
        {
          "output_type": "stream",
          "name": "stdout",
          "text": [
            "4\n",
            "5\n",
            "3\n",
            "10\n",
            "20\n",
            "20\n",
            "10\n",
            "3\n",
            "5\n"
          ]
        }
      ]
    },
    {
      "cell_type": "markdown",
      "source": [
        "Exercício 4.5\n"
      ],
      "metadata": {
        "id": "erlwioKxzlMc"
      }
    },
    {
      "cell_type": "code",
      "source": [
        "def menorNumero(n: int):\n",
        "  listaNumeros = []\n",
        "  for i in range(n):\n",
        "    listaNumeros.append(int(input()))\n",
        "  menorNumero = listaNumeros[0]\n",
        "  for i in range(len(listaNumeros)):\n",
        "    if(listaNumeros[i] < menorNumero):\n",
        "      menorNumero = listaNumeros[i]\n",
        "  return menorNumero\n",
        "\n",
        "def main():\n",
        "  n = int(input())\n",
        "  print(menorNumero(n))\n",
        "\n",
        "main()"
      ],
      "metadata": {
        "colab": {
          "base_uri": "https://localhost:8080/"
        },
        "id": "S7izw7-lzoU9",
        "outputId": "5b52fd3b-d31c-43cf-e6e6-b7cbaa426cb9"
      },
      "execution_count": 37,
      "outputs": [
        {
          "output_type": "stream",
          "name": "stdout",
          "text": [
            "4\n",
            "6\n",
            "2\n",
            "7\n",
            "5\n",
            "2\n"
          ]
        }
      ]
    }
  ]
}